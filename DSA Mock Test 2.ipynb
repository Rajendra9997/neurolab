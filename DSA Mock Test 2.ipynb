{
 "cells": [
  {
   "cell_type": "markdown",
   "id": "a1b3276e",
   "metadata": {},
   "source": [
    "First Unique Character in a String\n",
    "\n",
    "Given a string s, find the first non-repeating character in it and return its index. If it does not exist, return -1.\n",
    "\n",
    "Example 1:\n",
    "\n",
    "Input: s = \"leetcode\"\n",
    "\n",
    "Output: 0\n",
    "\n",
    "\n",
    "Example 2:\n",
    "\n",
    "Input: s = \"loveleetcode\"\n",
    "\n",
    "Output: 2\n",
    "\n",
    "\n",
    "Example 3:\n",
    "\n",
    "Input: s = \"aabb\"\n",
    "\n",
    "Output: -1\n",
    "\n",
    "\n",
    "Constraints:\n",
    "\n",
    "a. 1 <= s.length <= 10^5\n",
    "\n",
    "b. s consists of only lowercase English letters.\n"
   ]
  },
  {
   "cell_type": "markdown",
   "id": "b9cacddb",
   "metadata": {},
   "source": [
    "#### Approach\n",
    "This code is a Python implementation of a solution to find the index of the first unique character in a given string.\n",
    "\n",
    "The Solution class has a method called firstUniqChar that takes a single argument, which is a string (s). The method returns an integer representing the index of the first unique character in the input string, or -1 if all characters in the string are repeated.\n",
    "\n",
    "The hashMap variable is an empty dictionary used to store the count of each character in the input string. The for loop iterates through each character in the input string and updates the count in the hashMap dictionary. The get method of the dictionary is used to retrieve the current count of the character, and if the character is not yet in the dictionary, the default value of 0 is used.\n",
    "\n",
    "The second for loop iterates through each character in the input string and checks whether its count in the hashMap dictionary is equal to 1. If it is, then the index of the character is returned as the first occurrence of a unique character. If there is no unique character in the input string, the method returns -1."
   ]
  },
  {
   "cell_type": "markdown",
   "id": "631cae3e",
   "metadata": {},
   "source": [
    "#### Complexity\n",
    "Time complexity:\n",
    "O(n)\n",
    "\n",
    "Space complexity:\n",
    "O(n)\n",
    "\n",
    "The time complexity of the firstUniqChar method is O(n), where n is the length of the input string.\n",
    "\n",
    "The space complexity is also O(n), because the hashMap dictionary can contain up to n key-value pairs, one for each character in the string."
   ]
  },
  {
   "cell_type": "code",
   "execution_count": null,
   "id": "c99ea392",
   "metadata": {},
   "outputs": [],
   "source": [
    "class Solution:\n",
    "    def firstUniqChar(self, s: str) -> int:\n",
    "        for i,c in enumerate(s):\n",
    "            if s.count(c)==1:\n",
    "                return i\n",
    "                break\n",
    "        return -1"
   ]
  },
  {
   "cell_type": "code",
   "execution_count": null,
   "id": "ad23df33",
   "metadata": {},
   "outputs": [],
   "source": []
  }
 ],
 "metadata": {
  "kernelspec": {
   "display_name": "Python 3",
   "language": "python",
   "name": "python3"
  },
  "language_info": {
   "codemirror_mode": {
    "name": "ipython",
    "version": 3
   },
   "file_extension": ".py",
   "mimetype": "text/x-python",
   "name": "python",
   "nbconvert_exporter": "python",
   "pygments_lexer": "ipython3",
   "version": "3.7.6"
  }
 },
 "nbformat": 4,
 "nbformat_minor": 5
}
