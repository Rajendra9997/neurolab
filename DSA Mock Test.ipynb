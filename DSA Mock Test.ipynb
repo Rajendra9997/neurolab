{
 "cells": [
  {
   "cell_type": "markdown",
   "id": "b874ae08",
   "metadata": {},
   "source": [
    "### Move Zeroes\n",
    "Given an integer array nums, move all 0's to the end of it while maintaining the relative order of the non-zero elements."
   ]
  },
  {
   "cell_type": "markdown",
   "id": "0e9f8468",
   "metadata": {},
   "source": [
    "#### Approach\n",
    "initialize a pointer i to the beginning of the array. This pointer keeps track of where the next non-zero element should be placed.\n",
    "\n",
    "loop through the array using another pointer j.\n",
    "\n",
    "If encounter a non-zero element, we swap it with the element at the current position of i, effectively moving the non-zero element to the left of any zeroes encountered so far.\n",
    "\n",
    "increment the i pointer to move it to the next position, ready for the next non-zero element.\n",
    "\n",
    "Since modifying the input array in-place, we do not need to return anything"
   ]
  },
  {
   "cell_type": "markdown",
   "id": "86d9bf98",
   "metadata": {},
   "source": [
    "#### Complexity\n",
    "Time complexity:\n",
    "87.10%\n",
    "\n",
    "Space complexity:\n",
    "96.33%"
   ]
  },
  {
   "cell_type": "code",
   "execution_count": null,
   "id": "cb1ce8ab",
   "metadata": {},
   "outputs": [],
   "source": [
    "class Solution:\n",
    "    def moveZeroes(self, nums: List[int]) -> None:\n",
    "        \"\"\"\n",
    "        Do not return anything, modify nums in-place instead.\n",
    "        \"\"\"\n",
    "        # Initialize pointer to the beginning of the array\n",
    "        i = 0\n",
    "        # Loop through the array\n",
    "        for j in range(len(nums)):\n",
    "            # If the current element is non-zero\n",
    "            if nums[j] != 0:\n",
    "                # Swap it with the element at the current pointer\n",
    "                nums[i], nums[j] = nums[j], nums[i]\n",
    "                # Increment the pointer\n",
    "                i += 1"
   ]
  }
 ],
 "metadata": {
  "kernelspec": {
   "display_name": "Python 3",
   "language": "python",
   "name": "python3"
  },
  "language_info": {
   "codemirror_mode": {
    "name": "ipython",
    "version": 3
   },
   "file_extension": ".py",
   "mimetype": "text/x-python",
   "name": "python",
   "nbconvert_exporter": "python",
   "pygments_lexer": "ipython3",
   "version": "3.7.6"
  }
 },
 "nbformat": 4,
 "nbformat_minor": 5
}
